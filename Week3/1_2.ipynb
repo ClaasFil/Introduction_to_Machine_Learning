{
 "cells": [
  {
   "cell_type": "code",
   "execution_count": 1,
   "metadata": {},
   "outputs": [],
   "source": [
    "from sklearn import datasets\n",
    "from sklearn.model_selection import GridSearchCV\n",
    "from sklearn.svm import SVC\n",
    "from sklearn.metrics import classification_report\n",
    "from sklearn.metrics import accuracy_score\n",
    "import matplotlib.pyplot as plt\n",
    "import numpy as np\n",
    "from sklearn.gaussian_process.kernels import RBF, DotProduct\n",
    "\n",
    "\n",
    "digits = datasets.load_digits()"
   ]
  },
  {
   "cell_type": "code",
   "execution_count": 2,
   "metadata": {},
   "outputs": [
    {
     "name": "stdout",
     "output_type": "stream",
     "text": [
      "The number of images is 1797 and each image contains 64 pixels\n"
     ]
    }
   ],
   "source": [
    "n_samples = len(digits.images)\n",
    "X = digits.images.reshape((n_samples, -1))\n",
    "y = digits.target == 8\n",
    "print(\n",
    "    f\"The number of images is {X.shape[0]} and each image contains {X.shape[1]} pixels\"\n",
    ")"
   ]
  },
  {
   "cell_type": "code",
   "execution_count": 3,
   "metadata": {},
   "outputs": [],
   "source": [
    "from sklearn.model_selection import train_test_split\n",
    "X_train, X_test, y_train, y_test = train_test_split(X, y, test_size=0.3, random_state=0)"
   ]
  },
  {
   "cell_type": "code",
   "execution_count": 4,
   "metadata": {},
   "outputs": [
    {
     "name": "stdout",
     "output_type": "stream",
     "text": [
      "Test accuracy of my own kernal: 0.9555555555555556\n"
     ]
    }
   ],
   "source": [
    "clf = SVC(kernel=RBF()+DotProduct())\n",
    "clf.fit(X_train, y_train)\n",
    "Y_testPredicted = clf.predict(X_test)\n",
    "accTest = accuracy_score(y_test, Y_testPredicted)\n",
    "print(\"Test accuracy of my own kernal: \"+ str(accTest))"
   ]
  },
  {
   "cell_type": "markdown",
   "metadata": {},
   "source": [
    "Describe your kernel and the idea behind your kernel, if you fail to achieve higher accuracy, describe what you tried/thought about.: <br>\n",
    "My Kernel is a combination of an RBF Kernal with a DotProduct kernel. Sadly it does not achieve better accuracy than my best kernel from task 1.1. <br>\n",
    "However, the idea of my kernel was to take the best kernel from task 1.1. (wich was the RBF kernel) and \"upgrade it with a different kernel. The best combination of kernels I could come up with was to multiply it with a DotProduct kernel. I have also tried multiplying adding and subtraction all the other kernels from 1.1 from each other. However, no combination achieved a higher accuracy than the one presented. <br>\n",
    "The second Idea was to use different kernels for different dimensions of the input data. For E.g. analyze every row or column of the pictures with different kernels. That, however, got me nowhere close to the performance of the presented example. "
   ]
  },
  {
   "cell_type": "markdown",
   "metadata": {},
   "source": [
    "Proof/argue that you implemented a valid kernel: <br>\n",
    "My kernel is still a valid kernel because As stated in PP2 the multiplication of two kernels results in an other kernel"
   ]
  }
 ],
 "metadata": {
  "kernelspec": {
   "display_name": "Python 3",
   "language": "python",
   "name": "python3"
  },
  "language_info": {
   "codemirror_mode": {
    "name": "ipython",
    "version": 3
   },
   "file_extension": ".py",
   "mimetype": "text/x-python",
   "name": "python",
   "nbconvert_exporter": "python",
   "pygments_lexer": "ipython3",
   "version": "3.8.5"
  }
 },
 "nbformat": 4,
 "nbformat_minor": 4
}
