{
 "cells": [
  {
   "cell_type": "markdown",
   "metadata": {},
   "source": [
    "## Task 2.1"
   ]
  },
  {
   "cell_type": "code",
   "execution_count": 1,
   "metadata": {},
   "outputs": [],
   "source": [
    "import numpy as np\n",
    "from sklearn.pipeline import make_pipeline\n",
    "from sklearn.svm import LinearSVC\n",
    "from sklearn.metrics import mean_squared_error\n",
    "import matplotlib.pyplot as plt\n",
    "import seaborn as sns\n",
    "import sklearn\n",
    "import sklearn.datasets \n",
    "from sklearn.preprocessing import MinMaxScaler\n",
    "from sklearn.model_selection import train_test_split\n",
    "from sklearn.linear_model import LinearRegression\n",
    "from sklearn.svm import SVC\n",
    "from sklearn.model_selection import cross_validate"
   ]
  },
  {
   "cell_type": "markdown",
   "metadata": {},
   "source": [
    "Importing the Data and splitting it. Since the Task explicitly states to use 10 k-Fold. The test Data is never used again."
   ]
  },
  {
   "cell_type": "code",
   "execution_count": 2,
   "metadata": {},
   "outputs": [],
   "source": [
    "(X, y) = sklearn.datasets.load_breast_cancer(return_X_y=True)\n",
    "featureNames = sklearn.datasets.load_breast_cancer().feature_names\n",
    "X_train, X_test, y_train, y_test = train_test_split(X, y, test_size=0.3, random_state=42)\n",
    "scaler = MinMaxScaler().fit(X_train)\n",
    "X_train = (scaler.transform((X_train)))\n",
    "scaler = MinMaxScaler().fit(X_test)\n",
    "X_test = (scaler.transform((X_test)))"
   ]
  },
  {
   "cell_type": "markdown",
   "metadata": {},
   "source": [
    "A function that calculates the accuracy of a LinearSVC with 10 k-Fold."
   ]
  },
  {
   "cell_type": "code",
   "execution_count": 3,
   "metadata": {},
   "outputs": [],
   "source": [
    "def SVM(X_train, y_train):\n",
    "    cv_results = cross_validate(LinearSVC(),X_train,y_train, cv=10,scoring='accuracy')\n",
    "    return np.average(cv_results['test_score'])"
   ]
  },
  {
   "cell_type": "markdown",
   "metadata": {},
   "source": [
    "Functions that finds the name of a feature by comparing its values to a list of the same feature where the names a known. Ideally, this could also be recorded though the loop of the feature selection."
   ]
  },
  {
   "cell_type": "code",
   "execution_count": 4,
   "metadata": {},
   "outputs": [],
   "source": [
    "def regainFeatureNames(X_train_new, X_train, featureNames):\n",
    "    res = []\n",
    "    for i in range(X_train_new.shape[1]):\n",
    "        for j in range(X_test.shape[1]):\n",
    "            if np.array_equal(X_train_new[:, i],X_train[:, j]):\n",
    "                res.append([j,featureNames[j] ])\n",
    "    return res\n",
    "def regainSingleFeatureNames(X_train_new, X_train, featureNames):\n",
    "    res = []\n",
    "    for j in range(X_test.shape[1]):\n",
    "        if np.array_equal(X_train_new,X_train[:, j]):\n",
    "            res.append([j,featureNames[j] ])\n",
    "    return res"
   ]
  },
  {
   "cell_type": "markdown",
   "metadata": {},
   "source": [
    "Function who perform forward and backward steps. They are designed in a way that they calculate the accuracy of every feature combination and return the index an accuacy of the feature which should be added or removed."
   ]
  },
  {
   "cell_type": "code",
   "execution_count": 5,
   "metadata": {},
   "outputs": [],
   "source": [
    "def forwardStep(X_forward_train_old,  X_forward_train_new,  y_train):\n",
    "    bestIndex = 0\n",
    "    bestAcc = 0\n",
    "    for i in range(X_forward_train_old.shape[1]):\n",
    "        #adding an feature\n",
    "        currentX_train = np.append(X_forward_train_new, X_forward_train_old[:, i].reshape(len(X_forward_train_old), 1), axis = 1)\n",
    "        #calculating accuracy\n",
    "        acc = (SVM(currentX_train, y_train))\n",
    "        if acc>bestAcc:\n",
    "            bestIndex = i\n",
    "            bestAcc = acc\n",
    "    return[bestIndex, bestAcc] \n",
    "\n",
    "def backwardStep(X_forward_train_old, y_train):\n",
    "    bestIndex = 0\n",
    "    bestAcc = 0\n",
    "    for i in range(X_forward_train_old.shape[1]):\n",
    "        #removing a feature\n",
    "        currentX_train = np.delete(X_forward_train_old, i, axis = 1)\n",
    "        #calculating accuracy\n",
    "        acc = (SVM(currentX_train, y_train,))\n",
    "        if acc>bestAcc:\n",
    "            bestIndex = i\n",
    "            bestAcc = acc\n",
    "    return[bestIndex, bestAcc]  \n",
    "    \n",
    "\n"
   ]
  },
  {
   "cell_type": "markdown",
   "metadata": {},
   "source": [
    "Gready forward Feature Selection gets performed. In the first step, the feature with the best stand-alone performance will be calculated and saved in X_forward_train_new. In the next Step, a loop tries out which of the leftover features can be added to increase the accuracy the most. This feature also gets added to X_forward_train_new. <br>\n",
    "after all the features are added the function regainFeatureNames is called to determine the names of the features in the new list. "
   ]
  },
  {
   "cell_type": "code",
   "execution_count": 6,
   "metadata": {
    "scrolled": false
   },
   "outputs": [
    {
     "name": "stdout",
     "output_type": "stream",
     "text": [
      "Iteration  Number - [featureNumber, acc] - shape of current X_train\n",
      "1   [27, 0.9071153846153847]  (398, 1)\n",
      "2   [20, 0.9372435897435898]  (398, 2)\n",
      "3   [19, 0.9648076923076923]  (398, 3)\n",
      "4   [23, 0.9697435897435897]  (398, 4)\n",
      "5   [10, 0.9748076923076923]  (398, 5)\n",
      "6   [6, 0.9748076923076923]  (398, 6)\n",
      "7   [20, 0.9748076923076923]  (398, 7)\n",
      "8   [22, 0.9748076923076923]  (398, 8)\n",
      "9   [15, 0.9748076923076923]  (398, 9)\n",
      "10   [6, 0.9748076923076923]  (398, 10)\n",
      "11   [5, 0.9748717948717948]  (398, 11)\n",
      "12   [0, 0.9773717948717948]  (398, 12)\n",
      "13   [11, 0.9773717948717948]  (398, 13)\n",
      "14   [1, 0.9773717948717948]  (398, 14)\n",
      "15   [1, 0.9773717948717948]  (398, 15)\n",
      "16   [5, 0.9748076923076923]  (398, 16)\n",
      "17   [5, 0.9748717948717948]  (398, 17)\n",
      "18   [5, 0.9748717948717948]  (398, 18)\n",
      "19   [7, 0.9773717948717948]  (398, 19)\n",
      "20   [5, 0.9773717948717948]  (398, 20)\n",
      "21   [5, 0.9773717948717948]  (398, 21)\n",
      "22   [5, 0.9773717948717948]  (398, 22)\n",
      "23   [2, 0.9773717948717948]  (398, 23)\n",
      "24   [1, 0.9773717948717948]  (398, 24)\n",
      "25   [2, 0.9773717948717948]  (398, 25)\n",
      "26   [0, 0.9748717948717948]  (398, 26)\n",
      "27   [1, 0.9749358974358973]  (398, 27)\n",
      "28   [0, 0.9749358974358973]  (398, 28)\n",
      "29   [0, 0.9723717948717947]  (398, 29)\n",
      "30   [0, 0.9723076923076922]  (398, 30)\n",
      "order of the features: \n",
      "[7, 'mean concave points']\n",
      "[21, 'worst texture']\n",
      "[20, 'worst radius']\n",
      "[26, 'worst concavity']\n",
      "[11, 'texture error']\n",
      "[6, 'mean concavity']\n",
      "[25, 'worst compactness']\n",
      "[29, 'worst fractal dimension']\n",
      "[18, 'symmetry error']\n",
      "[8, 'mean symmetry']\n",
      "[5, 'mean compactness']\n",
      "[0, 'mean radius']\n",
      "[17, 'concave points error']\n",
      "[2, 'mean perimeter']\n",
      "[3, 'mean area']\n",
      "[13, 'area error']\n",
      "[14, 'smoothness error']\n",
      "[15, 'compactness error']\n",
      "[22, 'worst perimeter']\n",
      "[16, 'concavity error']\n",
      "[19, 'fractal dimension error']\n",
      "[23, 'worst area']\n",
      "[9, 'mean fractal dimension']\n",
      "[4, 'mean smoothness']\n",
      "[12, 'perimeter error']\n",
      "[1, 'mean texture']\n",
      "[24, 'worst smoothness']\n",
      "[10, 'radius error']\n",
      "[27, 'worst concave points']\n",
      "[28, 'worst symmetry']\n"
     ]
    },
    {
     "data": {
      "text/plain": [
       "<function matplotlib.pyplot.show(close=None, block=None)>"
      ]
     },
     "execution_count": 6,
     "metadata": {},
     "output_type": "execute_result"
    },
    {
     "data": {
      "image/png": "[encoded data removed]",
      "text/plain": [
       "<Figure size 432x288 with 1 Axes>"
      ]
     },
     "metadata": {
      "needs_background": "light"
     },
     "output_type": "display_data"
    }
   ],
   "source": [
    "X_forward_train_old = X_train\n",
    "bestIndex = 0\n",
    "bestAcc = 0\n",
    "\n",
    "#finding the feature with the best stand-alone performance\n",
    "for i in range(X_forward_train_old.shape[1]):\n",
    "    currentX_train = X_forward_train_old[:, i].reshape(len(X_forward_train_old), 1)\n",
    "    acc = (SVM(currentX_train, y_train))\n",
    "    if acc>bestAcc:\n",
    "        bestIndex = i\n",
    "        bestAcc = acc\n",
    "allAcc = []\n",
    "allAcc.append(bestAcc)\n",
    "X_forward_train_new = X_forward_train_old[:, bestIndex].reshape(len(X_forward_train_old), 1)\n",
    "X_forward_train_old = np.delete(X_forward_train_old, bestIndex, 1)\n",
    "print(\"Iteration  Number - [featureNumber, acc] - shape of current X_train\")\n",
    "print(str(1)+\"   \" + \"[27, \"+str(bestAcc)+ \"]  \"+ str(X_forward_train_new.shape))\n",
    "\n",
    "#adding the best feature to the model until all the features are added\n",
    "for i in range(X_forward_train_old.shape[1]):\n",
    "    res = (forwardStep(X_forward_train_old, X_forward_train_new,  y_train))\n",
    "    allAcc.append(res[1])\n",
    "    bestIndex =  res[0]\n",
    "    X_forward_train_new = np.append(X_forward_train_new, X_forward_train_old[:, bestIndex].reshape(len(X_forward_train_new), 1),axis = 1 )\n",
    "    X_forward_train_old = np.delete(X_forward_train_old, bestIndex, 1)\n",
    "    print(str(i +2)+\"   \" + str(res)+ \"  \"+ str(X_forward_train_new.shape))\n",
    "\n",
    "print(\"order of the features: \")\n",
    "for i in (regainFeatureNames(X_forward_train_new, X_train, featureNames)):\n",
    "    print(i)\n",
    "    \n",
    "\n",
    "plt.plot(allAcc,  \"o\")\n",
    "plt.title('Gready forward Feature selection')\n",
    "plt.xlabel('number of selected features')\n",
    "plt.ylabel('accuracy')\n",
    "plt.show\n"
   ]
  },
  {
   "cell_type": "markdown",
   "metadata": {},
   "source": [
    "## Subtask 2: Backward Greedy Feature Selection"
   ]
  },
  {
   "cell_type": "markdown",
   "metadata": {},
   "source": [
    "Gready Backward Feature Selection gets preformed. In the first step, the feature which can be removed with the least loss of performance will be calculated and removed from X_forward_train_old. In the next Step, a loop tries out which of the leftover feature can be removed least loss of performance.\n",
    "The name of each removed feature gets saved to be displayed in the end. "
   ]
  },
  {
   "cell_type": "code",
   "execution_count": 7,
   "metadata": {
    "scrolled": false
   },
   "outputs": [
    {
     "name": "stdout",
     "output_type": "stream",
     "text": [
      "Iteration Number - [featureNumber, acc] - shape of current X_train\n",
      "1   [28, 0.9774358974358973]  (398, 29)\n",
      "0   [20, 0.9775]  (398, 28)\n",
      "1   [5, 0.9800000000000001]  (398, 27)\n",
      "2   [0, 0.9800000000000001]  (398, 26)\n",
      "3   [1, 0.9800000000000001]  (398, 25)\n",
      "4   [1, 0.9800000000000001]  (398, 24)\n",
      "5   [1, 0.9800000000000001]  (398, 23)\n",
      "6   [1, 0.9800000000000001]  (398, 22)\n",
      "7   [2, 0.9800000000000001]  (398, 21)\n",
      "8   [3, 0.9800000000000001]  (398, 20)\n",
      "9   [3, 0.9800000000000001]  (398, 19)\n",
      "10   [3, 0.9800000000000001]  (398, 18)\n",
      "11   [2, 0.9800000000000001]  (398, 17)\n",
      "12   [3, 0.9800000000000001]  (398, 16)\n",
      "13   [4, 0.9800000000000001]  (398, 15)\n",
      "14   [4, 0.9800000000000001]  (398, 14)\n",
      "15   [2, 0.9800000000000001]  (398, 13)\n",
      "16   [2, 0.9800000000000001]  (398, 12)\n",
      "17   [2, 0.9799358974358974]  (398, 11)\n",
      "18   [3, 0.9799358974358974]  (398, 10)\n",
      "19   [1, 0.9800000000000001]  (398, 9)\n",
      "20   [4, 0.9774358974358975]  (398, 8)\n",
      "21   [2, 0.9749358974358975]  (398, 7)\n",
      "22   [5, 0.9699358974358974]  (398, 6)\n",
      "23   [5, 0.9674358974358974]  (398, 5)\n",
      "24   [3, 0.9649358974358975]  (398, 4)\n",
      "25   [2, 0.9622435897435897]  (398, 3)\n",
      "26   [0, 0.9372435897435898]  (398, 2)\n",
      "27   [0, 0.9071153846153847]  (398, 1)\n",
      "order of the features: \n",
      "[[18, 'symmetry error']]\n",
      "[[21, 'worst texture']]\n",
      "[[5, 'mean compactness']]\n",
      "[[0, 'mean radius']]\n",
      "[[2, 'mean perimeter']]\n",
      "[[3, 'mean area']]\n",
      "[[4, 'mean smoothness']]\n",
      "[[6, 'mean concavity']]\n",
      "[[8, 'mean symmetry']]\n",
      "[[10, 'radius error']]\n",
      "[[11, 'texture error']]\n",
      "[[12, 'perimeter error']]\n",
      "[[9, 'mean fractal dimension']]\n",
      "[[14, 'smoothness error']]\n",
      "[[16, 'concavity error']]\n",
      "[[17, 'concave points error']]\n",
      "[[13, 'area error']]\n",
      "[[15, 'compactness error']]\n",
      "[[19, 'fractal dimension error']]\n",
      "[[22, 'worst perimeter']]\n",
      "[[7, 'mean concave points']]\n",
      "[[25, 'worst compactness']]\n",
      "[[23, 'worst area']]\n",
      "[[28, 'worst symmetry']]\n",
      "[[29, 'worst fractal dimension']]\n",
      "[[26, 'worst concavity']]\n",
      "[[24, 'worst smoothness']]\n",
      "[[1, 'mean texture']]\n",
      "[[20, 'worst radius']]\n"
     ]
    },
    {
     "data": {
      "text/plain": [
       "<function matplotlib.pyplot.show(close=None, block=None)>"
      ]
     },
     "execution_count": 7,
     "metadata": {},
     "output_type": "execute_result"
    },
    {
     "data": {
      "image/png": "[encoded data removed]",
      "text/plain": [
       "<Figure size 432x288 with 1 Axes>"
      ]
     },
     "metadata": {
      "needs_background": "light"
     },
     "output_type": "display_data"
    }
   ],
   "source": [
    "X_forward_train_old = X_train\n",
    "names = []\n",
    "bestIndex = 0\n",
    "bestAcc = 0\n",
    "\n",
    "#finding the first feature which can be removed with the least loss of performance\n",
    "for i in range(X_forward_train_old.shape[1]):\n",
    "    currentX_train = np.delete(X_forward_train_old, i, axis = 1)\n",
    "    acc = (SVM(currentX_train, y_train))\n",
    "    if acc>bestAcc:\n",
    "        bestIndex = i\n",
    "        bestAcc = acc\n",
    "\n",
    "allAcc = []\n",
    "allAcc.append(bestAcc)\n",
    "names.append(regainSingleFeatureNames(X_forward_train_old[:,bestIndex], X_train, featureNames))\n",
    "X_forward_train_old = np.delete(X_forward_train_old, bestIndex, 1)\n",
    "print(\"Iteration Number - [featureNumber, acc] - shape of current X_train\")\n",
    "print(str(1)+\"   \" + \"[28, \"+str(bestAcc)+ \"]  \"+ str(X_forward_train_old.shape))\n",
    "\n",
    "for i in range(X_forward_train_old.shape[1]-1):\n",
    "    res = (backwardStep(X_forward_train_old, y_train))\n",
    "    allAcc.append(res[1])\n",
    "    bestIndex =  res[0]\n",
    "    names.append(regainSingleFeatureNames(X_forward_train_old[:,bestIndex], X_train, featureNames))\n",
    "    X_forward_train_old = np.delete(X_forward_train_old, bestIndex, 1)\n",
    "    print(str(i)+\"   \" + str(res)+ \"  \"+ str(X_forward_train_old.shape))\n",
    "\n",
    "\n",
    "    \n",
    "print(\"order of the features: \")\n",
    "for i in names:\n",
    "    print(i)    \n",
    "    \n",
    "\n",
    "plt.plot(allAcc,  \"o\")\n",
    "plt.title('Gready forward Feature sellection')\n",
    "plt.xlabel('number of iterations')\n",
    "plt.ylabel('accuarcy')\n",
    "plt.show\n"
   ]
  },
  {
   "cell_type": "markdown",
   "metadata": {},
   "source": [
    "## Subtask 3: Feature Importance"
   ]
  },
  {
   "cell_type": "markdown",
   "metadata": {},
   "source": [
    "Which features would you select using forward and backward feature selection? <br>\n",
    "With backward feature selection I would select the following features: ([Feature Number, Name]) <br>\n",
    "[23, 'worst area']<br>\n",
    "[28, 'worst symmetry']<br>\n",
    "[29, 'worst fractal dimension']<br>\n",
    "[26, 'worst concavity']<br>\n",
    "[24, 'worst smoothness']<br>\n",
    "[1, 'mean texture']<br>\n",
    "[20, 'worst radius']<br><br><br>\n",
    "With forward feature selection I would select the following features: ([Feature Number, Name]) <br>\n",
    "[7, 'mean concave points']]<br>\n",
    "[21, 'worst texture']<br>\n",
    "[20, 'worst radius']<br>\n",
    "[26, 'worst concavity']<br>\n",
    "[11, 'texture error']<br>\n",
    "[6, 'mean concavity']<br><br><br>\n",
    "\n",
    "\n",
    "Do the features differ and if so, why?<br>\n",
    "They differ in every feature but 20 and 27 \"worst concave points\". That indicates that many feature dependencies can be recognized in backward feature selection but not in forward feature selection. "
   ]
  },
  {
   "cell_type": "code",
   "execution_count": null,
   "metadata": {},
   "outputs": [],
   "source": []
  }
 ],
 "metadata": {
  "kernelspec": {
   "display_name": "Python 3",
   "language": "python",
   "name": "python3"
  },
  "language_info": {
   "codemirror_mode": {
    "name": "ipython",
    "version": 3
   },
   "file_extension": ".py",
   "mimetype": "text/x-python",
   "name": "python",
   "nbconvert_exporter": "python",
   "pygments_lexer": "ipython3",
   "version": "3.8.5"
  }
 },
 "nbformat": 4,
 "nbformat_minor": 4
}
